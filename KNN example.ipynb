{
 "cells": [
  {
   "cell_type": "code",
   "execution_count": 1,
   "metadata": {},
   "outputs": [
    {
     "name": "stderr",
     "output_type": "stream",
     "text": [
      "C:\\Users\\ASUS\\Anaconda3\\lib\\site-packages\\ipykernel_launcher.py:37: SettingWithCopyWarning: \n",
      "A value is trying to be set on a copy of a slice from a DataFrame.\n",
      "Try using .loc[row_indexer,col_indexer] = value instead\n",
      "\n",
      "See the caveats in the documentation: http://pandas.pydata.org/pandas-docs/stable/user_guide/indexing.html#returning-a-view-versus-a-copy\n",
      "C:\\Users\\ASUS\\Anaconda3\\lib\\site-packages\\ipykernel_launcher.py:48: DataConversionWarning: A column-vector y was passed when a 1d array was expected. Please change the shape of y to (n_samples, ), for example using ravel().\n"
     ]
    },
    {
     "name": "stdout",
     "output_type": "stream",
     "text": [
      "predictions [0 0 0 0 0 0 0 0 1 0 0 0 0 0 0 1 1 0 0 0 0 0 0 0 0 0 2 0 0 0 1 0 0 1 0 0 0\n",
      " 0 0 1 0 0 0 0 0 0 0 0 0 0 1 1 0 0 0 0 3 0 0 0 1 0 0 0 0 0 2 0 0 0 0 1 0 0\n",
      " 0 0 0 0 0 0 0 0 0 0 0 0 0 0 0 1 0 0 1 1 0 0 1 0 0 0 0 0 0 0 0 0 1 0 0 0 0\n",
      " 0 0 1 0 1 1 0 0 1 0 1 0 3 1 0 0 0 0 0 0 0 0 0 0 0 0 0 0 0 0 1 2 0 1 0 0 0\n",
      " 0 0 3 0 0 0 0 0 0 0 0 0 0 0 0 0 1 1 0 0 0 0 0 0 1 0 0 0 0 0 0 0 1 0 0 0 0\n",
      " 0 3 2 0 0 0 0 0 0 0 0 0 0 0 0 0 2 0 0 0 0 0 0 0 0 1 0 0 0 1 0 0 0 1 0 0 1\n",
      " 0 0 1 0 0 2 1 0 0 0 0 0 0 0 0 0 0 0 0 0 3 0 0 1 0 0 0 0 1 1 0 1 0 0 0 0 0\n",
      " 0 0 0 0 0 0 0 0 0 0 3 1 0 0 0 0 0 0 0 0 0 0 1 1 0 1 0 0 0 1 0 0 0 0 0 1 0\n",
      " 0 1 1 0 1 1 0 0 0 1 0 0 0 0 1 0 0 1 0 0 1 0 0 0 1 0 0 1 0 0 0 0 1 1 1 0 0\n",
      " 0 0 0 0 0 1 0 0 3 1 0 0 0]\n",
      "accuracy 0.7427745664739884\n",
      "Enter the index of data to be predicted17\n",
      "actual value: [0]\n",
      "predicted value: 0\n"
     ]
    }
   ],
   "source": [
    "#knn on car dataset\n",
    "\n",
    "import numpy as np\n",
    "import pandas as pd\n",
    "from sklearn import neighbors,metrics\n",
    "from sklearn.model_selection import train_test_split\n",
    "from sklearn.preprocessing import LabelEncoder\n",
    "\n",
    "header_name=['buying','maint','doors','persons','lug_boot','safety','class']\n",
    "data=pd.read_csv('car.data',names=header_name)# creatiing data object\n",
    "data.head()\n",
    "\n",
    "X=data[['buying','maint','safety']].values\n",
    "\n",
    "y=data[['class']]\n",
    "\n",
    "# print(X)\n",
    "# print(y)\n",
    "\n",
    "#conversion of data\n",
    "\n",
    "# X (from vhigh high med low = 3 2 1 0)\n",
    "\n",
    "Le=LabelEncoder()\n",
    "for i in range(len(X[0])):\n",
    "    X[:,i]=Le.fit_transform(X[:,i])\n",
    "# print(X)\n",
    "\n",
    "#y (using map fxn)\n",
    "\n",
    "label_mapping={\n",
    "    'unacc':0,\n",
    "    'acc':1,\n",
    "    'good':2,\n",
    "    'vgood':3\n",
    "}\n",
    "y['class']=y['class'].map(label_mapping) #'class' is the label\n",
    "#converting it to a numpy array\n",
    "y=np.array(y)\n",
    "# print(y)\n",
    "\n",
    "#creating a model\n",
    "\n",
    "knn=neighbors.KNeighborsClassifier(n_neighbors=25,weights='uniform')#creating a knn object\n",
    "#TTS\n",
    "X_train,X_test,y_train,y_test=train_test_split(X,y,test_size=0.2)\n",
    "\n",
    "knn.fit(X_train,y_train)\n",
    "\n",
    "predictions=knn.predict(X_test)\n",
    "accuracy=metrics.accuracy_score(y_test,predictions)\n",
    "\n",
    "print('predictions',predictions)\n",
    "print('accuracy',accuracy)\n",
    "\n",
    "#Comparing Actual and predicted value\n",
    "a=int(input('Enter the index of data to be predicted'))\n",
    "print('actual value:',y[a])\n",
    "print('predicted value:', knn.predict(X)[a])\n",
    "\n",
    "\n",
    "    \n",
    "\n",
    "\n"
   ]
  }
 ],
 "metadata": {
  "kernelspec": {
   "display_name": "Python 3",
   "language": "python",
   "name": "python3"
  },
  "language_info": {
   "codemirror_mode": {
    "name": "ipython",
    "version": 3
   },
   "file_extension": ".py",
   "mimetype": "text/x-python",
   "name": "python",
   "nbconvert_exporter": "python",
   "pygments_lexer": "ipython3",
   "version": "3.6.4"
  }
 },
 "nbformat": 4,
 "nbformat_minor": 2
}
